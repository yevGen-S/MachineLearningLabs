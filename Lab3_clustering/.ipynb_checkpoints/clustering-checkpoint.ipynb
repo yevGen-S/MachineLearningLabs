{
 "cells": [
  {
   "cell_type": "code",
   "execution_count": null,
   "metadata": {
    "id": "5T3yoMdCn3d-"
   },
   "outputs": [],
   "source": [
    "from sklearn.cluster import KMeans\n",
    "from sklearn.preprocessing import StandardScaler\n",
    "import numpy as np\n",
    "import matplotlib.pyplot as plt\n",
    "from pandas import read_csv\n",
    "from sklearn.metrics import davies_bouldin_score\n",
    "from sklearn.cluster import AgglomerativeClustering\n",
    "from sklearn.cluster import DBSCAN"
   ]
  },
  {
   "cell_type": "markdown",
   "metadata": {
    "id": "gf2Nin9Uqenk"
   },
   "source": [
    "# Задание 1"
   ]
  },
  {
   "cell_type": "code",
   "execution_count": null,
   "metadata": {
    "id": "zd0S_eNQp_BB"
   },
   "outputs": [],
   "source": [
    "X = read_csv('pluton.csv', sep=',').to_numpy()"
   ]
  },
  {
   "cell_type": "code",
   "execution_count": null,
   "metadata": {
    "colab": {
     "base_uri": "https://localhost:8080/"
    },
    "id": "X91WAyzYlXaH",
    "outputId": "7a74f1da-a6f6-42c3-e68a-aed33ab4d765"
   },
   "outputs": [
    {
     "data": {
      "text/plain": [
       "array([[ 0.126, 75.804, 21.204,  2.18 ],\n",
       "       [ 0.133, 75.515, 21.408,  2.24 ],\n",
       "       [ 0.127, 75.175, 21.668,  2.305],\n",
       "       [ 0.156, 78.872, 18.428,  1.906],\n",
       "       [ 0.503, 73.317, 20.223,  4.128],\n",
       "       [ 0.113, 79.116, 18.548,  1.69 ],\n",
       "       [ 0.129, 75.751, 21.162,  2.26 ],\n",
       "       [ 0.124, 75.326, 21.557,  2.282],\n",
       "       [ 1.022, 63.287, 24.493,  6.99 ],\n",
       "       [ 1.412, 59.553, 25.576,  8.027],\n",
       "       [ 1.533, 58.688, 25.719,  8.279],\n",
       "       [ 1.534, 58.758, 25.692,  8.261],\n",
       "       [ 1.437, 59.728, 25.146,  8.377],\n",
       "       [ 1.439, 59.544, 25.126,  8.569],\n",
       "       [ 1.375, 59.877, 25.128,  8.428],\n",
       "       [ 1.153, 61.182, 25.1  ,  7.802],\n",
       "       [ 0.201, 78.244, 18.488,  2.351],\n",
       "       [ 0.176, 78.166, 18.629,  2.365],\n",
       "       [ 0.239, 74.254, 21.515,  2.901],\n",
       "       [ 0.102, 79.84 , 17.872,  1.674],\n",
       "       [ 1.07 , 62.455, 24.656,  7.512],\n",
       "       [ 0.851, 73.189, 18.285,  5.597],\n",
       "       [ 0.125, 75.968, 20.794,  2.407],\n",
       "       [ 0.142, 75.957, 20.867,  2.341],\n",
       "       [ 0.352, 72.885, 21.718,  3.618],\n",
       "       [ 0.351, 72.907, 21.721,  3.601],\n",
       "       [ 0.346, 72.919, 21.713,  3.6  ],\n",
       "       [ 0.217, 76.089, 20.225,  2.556],\n",
       "       [ 1.068, 70.129, 18.573,  7.689],\n",
       "       [ 1.171, 69.273, 18.633,  8.3  ],\n",
       "       [ 1.213, 69.147, 18.64 ,  8.363],\n",
       "       [ 1.226, 68.294, 18.869,  8.826],\n",
       "       [ 1.111, 71.076, 18.122,  7.248],\n",
       "       [ 0.183, 75.714, 20.75 ,  2.488],\n",
       "       [ 0.162, 76.15 , 20.345,  2.524],\n",
       "       [ 0.113, 77.845, 19.108,  2.275],\n",
       "       [ 1.309, 62.382, 22.754,  9.311],\n",
       "       [ 1.638, 60.112, 23.32 ,  9.972],\n",
       "       [ 1.589, 60.519, 23.128,  9.97 ],\n",
       "       [ 1.411, 61.585, 23.133,  9.339],\n",
       "       [ 1.457, 61.332, 23.239,  9.321],\n",
       "       [ 0.397, 72.291, 21.761,  3.836],\n",
       "       [ 0.328, 73.451, 21.429,  3.419],\n",
       "       [ 0.242, 74.888, 20.939,  2.875],\n",
       "       [ 1.367, 60.507, 23.603,  9.839]])"
      ]
     },
     "execution_count": 48,
     "metadata": {
      "tags": []
     },
     "output_type": "execute_result"
    }
   ],
   "source": [
    "def standardize(data):\n",
    "  return StandardScaler(). \\\n",
    "          fit(data). \\\n",
    "          transform(data)\n",
    "\n",
    "# standardize(X)\n",
    "X"
   ]
  },
  {
   "cell_type": "code",
   "execution_count": null,
   "metadata": {
    "colab": {
     "base_uri": "https://localhost:8080/"
    },
    "id": "kPbqFTUlqX0F",
    "outputId": "84e14cfd-e464-4237-fbc7-2ecf40fe5155"
   },
   "outputs": [
    {
     "name": "stdout",
     "output_type": "stream",
     "text": [
      "1995\n",
      "1996\n",
      "1997\n",
      "1998\n",
      "1999\n"
     ]
    }
   ],
   "source": [
    "max_iters = [i for i in range(1, 2000)]\n",
    "dbi_array = []\n",
    "\n",
    "from IPython.display import clear_output\n",
    "\n",
    "# X = standardize(X)\n",
    "\n",
    "min_dbi = 10_000\n",
    "min_index = -1\n",
    "\n",
    "for mi in max_iters:\n",
    "  kmeans = KMeans(n_clusters=3).fit(X)\n",
    "  dbi = davies_bouldin_score(X, kmeans.labels_)\n",
    "  dbi_array.append(dbi)\n",
    "\n",
    "  if dbi < min_dbi:\n",
    "    min_dbi = dbi\n",
    "    min_index = mi\n",
    "\n",
    "  if mi % 5 == 0:\n",
    "    clear_output()\n",
    "  print(mi)"
   ]
  },
  {
   "cell_type": "code",
   "execution_count": null,
   "metadata": {
    "colab": {
     "base_uri": "https://localhost:8080/",
     "height": 296
    },
    "id": "PRQ0YM61rd3q",
    "outputId": "b8fc4543-a600-42f8-c135-c40ea31037b9"
   },
   "outputs": [
    {
     "data": {
      "image/png": "[encoded data removed]",
      "text/plain": [
       "<Figure size 432x288 with 1 Axes>"
      ]
     },
     "metadata": {
      "needs_background": "light",
      "tags": []
     },
     "output_type": "display_data"
    },
    {
     "name": "stdout",
     "output_type": "stream",
     "text": [
      "633\n"
     ]
    }
   ],
   "source": [
    "plt.plot(max_iters, dbi_array)\n",
    "plt.ylabel('Davies–Bouldin index')\n",
    "plt.xlabel('Max iterations')\n",
    "plt.show()\n",
    "print(min_index)"
   ]
  },
  {
   "cell_type": "markdown",
   "metadata": {
    "id": "rELb0OERqjsp"
   },
   "source": [
    "# Задание 2"
   ]
  },
  {
   "cell_type": "code",
   "execution_count": null,
   "metadata": {
    "colab": {
     "base_uri": "https://localhost:8080/",
     "height": 214
    },
    "id": "o-hzC0sttUGM",
    "outputId": "d2b4e2a6-b72b-4e57-f749-51f65de3e443"
   },
   "outputs": [
    {
     "ename": "NameError",
     "evalue": "ignored",
     "output_type": "error",
     "traceback": [
      "\u001b[0;31m---------------------------------------------------------------------------\u001b[0m",
      "\u001b[0;31mNameError\u001b[0m                                 Traceback (most recent call last)",
      "\u001b[0;32m<ipython-input-1-bf8ea81a43c4>\u001b[0m in \u001b[0;36m<module>\u001b[0;34m()\u001b[0m\n\u001b[0;32m----> 1\u001b[0;31m \u001b[0mX1\u001b[0m \u001b[0;34m=\u001b[0m \u001b[0mread_csv\u001b[0m\u001b[0;34m(\u001b[0m\u001b[0;34m'clustering_1.csv'\u001b[0m\u001b[0;34m,\u001b[0m \u001b[0msep\u001b[0m\u001b[0;34m=\u001b[0m\u001b[0;34m'\\t'\u001b[0m\u001b[0;34m)\u001b[0m\u001b[0;34m.\u001b[0m\u001b[0mto_numpy\u001b[0m\u001b[0;34m(\u001b[0m\u001b[0;34m)\u001b[0m\u001b[0;34m\u001b[0m\u001b[0;34m\u001b[0m\u001b[0m\n\u001b[0m\u001b[1;32m      2\u001b[0m \u001b[0mX2\u001b[0m \u001b[0;34m=\u001b[0m \u001b[0mread_csv\u001b[0m\u001b[0;34m(\u001b[0m\u001b[0;34m'clustering_2.csv'\u001b[0m\u001b[0;34m,\u001b[0m \u001b[0msep\u001b[0m\u001b[0;34m=\u001b[0m\u001b[0;34m'\\t'\u001b[0m\u001b[0;34m)\u001b[0m\u001b[0;34m.\u001b[0m\u001b[0mto_numpy\u001b[0m\u001b[0;34m(\u001b[0m\u001b[0;34m)\u001b[0m\u001b[0;34m\u001b[0m\u001b[0;34m\u001b[0m\u001b[0m\n\u001b[1;32m      3\u001b[0m \u001b[0mX3\u001b[0m \u001b[0;34m=\u001b[0m \u001b[0mread_csv\u001b[0m\u001b[0;34m(\u001b[0m\u001b[0;34m'clustering_3.csv'\u001b[0m\u001b[0;34m,\u001b[0m \u001b[0msep\u001b[0m\u001b[0;34m=\u001b[0m\u001b[0;34m'\\t'\u001b[0m\u001b[0;34m)\u001b[0m\u001b[0;34m.\u001b[0m\u001b[0mto_numpy\u001b[0m\u001b[0;34m(\u001b[0m\u001b[0;34m)\u001b[0m\u001b[0;34m\u001b[0m\u001b[0;34m\u001b[0m\u001b[0m\n\u001b[1;32m      4\u001b[0m \u001b[0mX2\u001b[0m\u001b[0;34m\u001b[0m\u001b[0;34m\u001b[0m\u001b[0m\n",
      "\u001b[0;31mNameError\u001b[0m: name 'read_csv' is not defined"
     ]
    }
   ],
   "source": [
    "X1 = read_csv('clustering_1.csv', sep='\\t').to_numpy()\n",
    "X2 = read_csv('clustering_2.csv', sep='\\t').to_numpy()\n",
    "X3 = read_csv('clustering_3.csv', sep='\\t').to_numpy()\n",
    "X2"
   ]
  },
  {
   "cell_type": "code",
   "execution_count": null,
   "metadata": {
    "colab": {
     "base_uri": "https://localhost:8080/",
     "height": 231
    },
    "id": "jXqpyQlqJ08Y",
    "outputId": "3483da2c-15c3-4d69-81b8-e29f8bd31566"
   },
   "outputs": [
    {
     "ename": "NameError",
     "evalue": "ignored",
     "output_type": "error",
     "traceback": [
      "\u001b[0;31m---------------------------------------------------------------------------\u001b[0m",
      "\u001b[0;31mNameError\u001b[0m                                 Traceback (most recent call last)",
      "\u001b[0;32m<ipython-input-2-a459a4d6928c>\u001b[0m in \u001b[0;36m<module>\u001b[0;34m()\u001b[0m\n\u001b[0;32m----> 1\u001b[0;31m \u001b[0mplt\u001b[0m\u001b[0;34m.\u001b[0m\u001b[0mfigure\u001b[0m\u001b[0;34m(\u001b[0m\u001b[0mfigsize\u001b[0m\u001b[0;34m=\u001b[0m\u001b[0;34m(\u001b[0m\u001b[0;36m6\u001b[0m\u001b[0;34m,\u001b[0m \u001b[0;36m6\u001b[0m\u001b[0;34m)\u001b[0m\u001b[0;34m)\u001b[0m\u001b[0;34m\u001b[0m\u001b[0;34m\u001b[0m\u001b[0m\n\u001b[0m\u001b[1;32m      2\u001b[0m \u001b[0;34m\u001b[0m\u001b[0m\n\u001b[1;32m      3\u001b[0m \u001b[0mX_scatter\u001b[0m \u001b[0;34m=\u001b[0m \u001b[0mX3\u001b[0m\u001b[0;34m\u001b[0m\u001b[0;34m\u001b[0m\u001b[0m\n\u001b[1;32m      4\u001b[0m \u001b[0;34m\u001b[0m\u001b[0m\n\u001b[1;32m      5\u001b[0m \u001b[0mplt\u001b[0m\u001b[0;34m.\u001b[0m\u001b[0mscatter\u001b[0m\u001b[0;34m(\u001b[0m\u001b[0mX_scatter\u001b[0m\u001b[0;34m[\u001b[0m\u001b[0;34m:\u001b[0m\u001b[0;34m,\u001b[0m \u001b[0;36m0\u001b[0m\u001b[0;34m]\u001b[0m\u001b[0;34m,\u001b[0m \u001b[0mX_scatter\u001b[0m\u001b[0;34m[\u001b[0m\u001b[0;34m:\u001b[0m\u001b[0;34m,\u001b[0m \u001b[0;36m1\u001b[0m\u001b[0;34m]\u001b[0m\u001b[0;34m)\u001b[0m\u001b[0;34m\u001b[0m\u001b[0;34m\u001b[0m\u001b[0m\n",
      "\u001b[0;31mNameError\u001b[0m: name 'plt' is not defined"
     ]
    }
   ],
   "source": [
    "plt.figure(figsize=(6, 6))\n",
    "\n",
    "X_scatter = X3\n",
    "\n",
    "plt.scatter(X_scatter[:, 0], X_scatter[:, 1])\n",
    "\n",
    "plt.xlabel('X1')\n",
    "plt.ylabel('X2')\n",
    "\n",
    "plt.grid(True)\n",
    "\n",
    "plt.show()"
   ]
  },
  {
   "cell_type": "code",
   "execution_count": null,
   "metadata": {
    "id": "QmpfoCjhqmXJ"
   },
   "outputs": [],
   "source": [
    "n_clusters_arr = [i for i in range(2, 15)]\n",
    "dbi_kmeans_arr = []\n",
    "dbi_dbscan_arr = []\n",
    "dbi_hierarcy_arr = []\n",
    "\n",
    "\n",
    "from IPython.display import clear_output\n",
    "\n",
    "X = X3\n",
    "\n",
    "for n in n_clusters_arr:\n",
    "  kmeans = KMeans(n_clusters=n).fit(X)\n",
    "  aggclust = AgglomerativeClustering(n_clusters=n).fit(X)\n",
    "\n",
    "  dbi_kmeans = davies_bouldin_score(X, kmeans.labels_)\n",
    "  dbi_hierarcy = davies_bouldin_score(X, aggclust.labels_)\n",
    "  dbi_kmeans_arr.append(dbi_kmeans)\n",
    "  dbi_hierarcy_arr.append(dbi_hierarcy)\n",
    "\n",
    "  if n % 5 == 0:\n",
    "    clear_output()\n",
    "  print(n)"
   ]
  },
  {
   "cell_type": "code",
   "execution_count": null,
   "metadata": {
    "id": "cD45Mfb_wvcW"
   },
   "outputs": [],
   "source": [
    "fig, sub = plt.subplots(2, 1, figsize=(10, 11))\n",
    "\n",
    "titles = ('K means', 'AgglomerativeClustering')\n",
    "\n",
    "for arr, ax, title in zip((dbi_kmeans_arr, dbi_hierarcy_arr), sub.flatten(), titles):\n",
    "    ax.plot(n_clusters_arr, arr)\n",
    "    ax.set_ylabel('Davies–Bouldin index')\n",
    "    ax.set_xlabel('Clusters num')\n",
    "    # ax.set_xticks(())\n",
    "    # ax.set_yticks(())\n",
    "    ax.set_title(title)\n",
    "    ax.grid(True)\n",
    "\n",
    "plt.show()"
   ]
  },
  {
   "cell_type": "code",
   "execution_count": null,
   "metadata": {
    "id": "kjTrDE5PD3KB"
   },
   "outputs": [],
   "source": [
    "def print_labels(clust, X):\n",
    "  clustering = clust.fit(X)\n",
    "  print(set(clust.labels_))\n",
    "  davies_bouldin_score(X, clust.labels_)"
   ]
  },
  {
   "cell_type": "code",
   "execution_count": null,
   "metadata": {
    "id": "J8qx5ZApMVGH"
   },
   "outputs": [],
   "source": [
    "def visualize_data(clust, X, legend=True):\n",
    "  clustering = clust.fit(X)\n",
    "  plt.figure(figsize=(10, 10))\n",
    "\n",
    "  labels = clustering.labels_.reshape(-1, 1)\n",
    "\n",
    "  labels_set = list(set(clustering.labels_))\n",
    "\n",
    "  all_data = np.concatenate((X, labels), axis=1)\n",
    "\n",
    "  clusters = []\n",
    "\n",
    "  for i in labels_set:\n",
    "    clusters.append(all_data[all_data[:, -1] == i])\n",
    "  \n",
    "  clusters = np.array(clusters)\n",
    "\n",
    "  for c in clusters:\n",
    "    plt.scatter(c[:, 0], c[:, 1])\n",
    "\n",
    "  plt.xlabel('X1')\n",
    "  plt.ylabel('X2')\n",
    "\n",
    "  if legend:\n",
    "    plt.legend(['class %d' % i for i in labels_set])\n",
    "\n",
    "  plt.grid(True)\n",
    "\n",
    "  try:\n",
    "    print(davies_bouldin_score(X, clustering.labels_))\n",
    "  except Exception as e:\n",
    "    print(e)\n",
    "\n",
    "  plt.show()"
   ]
  },
  {
   "cell_type": "code",
   "execution_count": null,
   "metadata": {
    "id": "voHTVcDUL4RT"
   },
   "outputs": [],
   "source": [
    "visualize_data(DBSCAN(), X3, legend=False)\n"
   ]
  },
  {
   "cell_type": "code",
   "execution_count": null,
   "metadata": {
    "id": "s9D-j1jcnvPU"
   },
   "outputs": [],
   "source": [
    "len(X2)"
   ]
  },
  {
   "cell_type": "markdown",
   "metadata": {
    "id": "pZVRDwm9pztI"
   },
   "source": [
    "# Задание 3"
   ]
  },
  {
   "cell_type": "code",
   "execution_count": null,
   "metadata": {
    "id": "G8suxeu5p17o"
   },
   "outputs": [],
   "source": [
    "from skimage import io"
   ]
  },
  {
   "cell_type": "code",
   "execution_count": null,
   "metadata": {
    "id": "N2T9vk7Xt9TN"
   },
   "outputs": [],
   "source": [
    "def compress_image(image, clusters_num):\n",
    "  rows = image.shape[0]\n",
    "  cols = image.shape[1]\n",
    "  \n",
    "  image = image.reshape(rows*cols, 3)\n",
    "\n",
    "  kmeans = KMeans(n_clusters=clusters_num)\n",
    "  kmeans.fit(image)\n",
    "  compressed_image = kmeans.cluster_centers_[kmeans.labels_]\n",
    "  compressed_image = np.clip(compressed_image.astype('uint8'), 0, 255)\n",
    "  compressed_image = compressed_image.reshape(rows, cols, 3)\n",
    "  io.imsave('compressed_image_%d.png' % clusters_num, compressed_image)"
   ]
  },
  {
   "cell_type": "code",
   "execution_count": null,
   "metadata": {
    "colab": {
     "base_uri": "https://localhost:8080/"
    },
    "id": "sINdZz6pszyQ",
    "outputId": "e5c48401-8e58-43a9-9934-376bb277bf49"
   },
   "outputs": [
    {
     "name": "stdout",
     "output_type": "stream",
     "text": [
      "64 done\n",
      "48 done\n",
      "32 done\n",
      "16 done\n"
     ]
    }
   ],
   "source": [
    "clusters_nums = [64, 48, 32, 16]\n",
    "for cn in clusters_nums:\n",
    "  compress_image(io.imread('image.jpg'), cn)\n",
    "  print(cn, 'done')"
   ]
  },
  {
   "cell_type": "code",
   "execution_count": null,
   "metadata": {
    "id": "p6qRILGJwRBj"
   },
   "outputs": [],
   "source": [
    "compress_image(io.imread('image.jpg'), 3)"
   ]
  },
  {
   "cell_type": "markdown",
   "metadata": {
    "id": "va1wEptTyxsV"
   },
   "source": [
    "# Задание 4"
   ]
  },
  {
   "cell_type": "code",
   "execution_count": null,
   "metadata": {
    "id": "XOQ7fPcwyz5E"
   },
   "outputs": [],
   "source": [
    "from scipy.cluster.hierarchy import dendrogram\n",
    "\n",
    "\n",
    "def plot_dendrogram(model, **kwargs):\n",
    "    # Create linkage matrix and then plot the dendrogram\n",
    "\n",
    "    # create the counts of samples under each node\n",
    "    counts = np.zeros(model.children_.shape[0])\n",
    "    n_samples = len(model.labels_)\n",
    "    for i, merge in enumerate(model.children_):\n",
    "        current_count = 0\n",
    "        for child_idx in merge:\n",
    "            if child_idx < n_samples:\n",
    "                current_count += 1  # leaf node\n",
    "            else:\n",
    "                current_count += counts[child_idx - n_samples]\n",
    "        counts[i] = current_count\n",
    "\n",
    "    linkage_matrix = np.column_stack([model.children_, model.distances_,\n",
    "                                      counts]).astype(float)\n",
    "\n",
    "    dendrogram(linkage_matrix, **kwargs)\n"
   ]
  },
  {
   "cell_type": "code",
   "execution_count": null,
   "metadata": {
    "colab": {
     "base_uri": "https://localhost:8080/"
    },
    "id": "D-0Dg7xp0syt",
    "outputId": "ed1b8e7c-fc4b-4967-ad63-4ce0603a28df"
   },
   "outputs": [
    {
     "data": {
      "text/plain": [
       "array([[ 0.  ,  0.  ,  0.  , ..., 14.  , 72.4 , 43.48],\n",
       "       [ 0.  ,  0.  ,  0.  , ..., 45.3 , 58.1 , 62.91],\n",
       "       [ 0.  ,  0.  ,  0.  , ..., 54.8 , 64.7 , 58.62],\n",
       "       ...,\n",
       "       [ 0.  ,  0.  , 68.95, ..., 40.8 , 63.6 , 41.95],\n",
       "       [55.29, 56.58, 55.88, ..., 47.9 , 53.4 , 49.16],\n",
       "       [ 0.  ,  0.  ,  0.  , ..., 55.8 , 69.  , 59.85]])"
      ]
     },
     "execution_count": 271,
     "metadata": {
      "tags": []
     },
     "output_type": "execute_result"
    }
   ],
   "source": [
    "X = read_csv('votes.csv', sep=',').to_numpy()\n",
    "X = np.nan_to_num(X, nan=0)\n",
    "X"
   ]
  },
  {
   "cell_type": "code",
   "execution_count": null,
   "metadata": {
    "colab": {
     "base_uri": "https://localhost:8080/",
     "height": 880
    },
    "id": "qKupnTUl0TFH",
    "outputId": "e3024061-a141-480e-b45d-de607e8f892f"
   },
   "outputs": [
    {
     "data": {
      "image/png": "[encoded data removed]",
      "text/plain": [
       "<Figure size 1080x1080 with 1 Axes>"
      ]
     },
     "metadata": {
      "needs_background": "light",
      "tags": []
     },
     "output_type": "display_data"
    }
   ],
   "source": [
    "model = AgglomerativeClustering(distance_threshold=0, n_clusters=None)\n",
    "model = model.fit(X)\n",
    "\n",
    "plt.figure(figsize=(15, 15))\n",
    "plt.grid(True)\n",
    "plt.title('Hierarchical Clustering Dendrogram')\n",
    "plot_dendrogram(model, truncate_mode='level', p=15)\n",
    "plt.show()"
   ]
  },
  {
   "cell_type": "code",
   "execution_count": null,
   "metadata": {
    "colab": {
     "base_uri": "https://localhost:8080/"
    },
    "id": "hmKW0w0q63jD",
    "outputId": "15a5a4c7-c05a-4d20-9cf7-6ee7b43ac9c5"
   },
   "outputs": [
    {
     "name": "stdout",
     "output_type": "stream",
     "text": [
      "[0 0 0 0 1 0 1 1 0 0 0 0 1 1 1 1 1 0 1 1 1 1 1 0 1 0 1 1 1 1 0 1 0 0 1 0 1\n",
      " 1 1 0 0 0 0 0 1 0 0 1 1 0]\n"
     ]
    },
    {
     "data": {
      "text/plain": [
       "50.957096774193566"
      ]
     },
     "execution_count": 300,
     "metadata": {
      "tags": []
     },
     "output_type": "execute_result"
    }
   ],
   "source": [
    "model = AgglomerativeClustering(n_clusters=2)\n",
    "model = model.fit(X)\n",
    "print(model.labels_)\n",
    "np.mean(X[48])"
   ]
  }
 ],
 "metadata": {
  "accelerator": "GPU",
  "colab": {
   "collapsed_sections": [],
   "name": "lab3.ipynb",
   "provenance": [],
   "toc_visible": true
  },
  "kernelspec": {
   "display_name": "Python 3 (ipykernel)",
   "language": "python",
   "name": "python3"
  },
  "language_info": {
   "codemirror_mode": {
    "name": "ipython",
    "version": 3
   },
   "file_extension": ".py",
   "mimetype": "text/x-python",
   "name": "python",
   "nbconvert_exporter": "python",
   "pygments_lexer": "ipython3",
   "version": "3.10.6"
  }
 },
 "nbformat": 4,
 "nbformat_minor": 1
}
